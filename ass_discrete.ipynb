{
  "nbformat": 4,
  "nbformat_minor": 0,
  "metadata": {
    "colab": {
      "provenance": []
    },
    "kernelspec": {
      "name": "python3",
      "display_name": "Python 3"
    },
    "language_info": {
      "name": "python"
    }
  },
  "cells": [
    {
      "cell_type": "markdown",
      "source": [
        "#1. (Valor: 1.5 pontos) Considere as sequências\n",
        " - x(n) = {−1, 1, 2} e h(n) = {3, 1, −2, 3, −2}\n",
        "\n",
        "- Escreva um programa para calcular e desenhar a sequência y(n) = x(n) ∗ h(n)"
      ],
      "metadata": {
        "id": "QicxHZdfWtWb"
      }
    },
    {
      "cell_type": "markdown",
      "source": [
        "### Definição das bibliotecas e funções que serão utilizadas para a resolução da atividade"
      ],
      "metadata": {
        "id": "F-X3SlpHgtBn"
      }
    },
    {
      "cell_type": "code",
      "source": [
        "from re import X\n",
        "import numpy as np\n",
        "from itertools import zip_longest\n",
        "import matplotlib.pyplot as plt\n",
        "\n",
        "def zero(v, n):\n",
        "  for i in range(n):\n",
        "    v.append(0)\n",
        "\n",
        "def apresentar_lista(n):\n",
        "  print(n)\n",
        "\n",
        "def inverter_lista(n):\n",
        "  n.reverse()\n",
        "\n",
        "def somar_listas(a, b, c,d,e):\n",
        "  soma = [sum(valores) for valores in zip_longest(a, b, c,d,e, fillvalue=0)]\n",
        "  print(f'Esse é o resultado da soma após a multiplicação de x_n com h_n, logo y_n = {soma} com tamanho m + n = {len(soma)}')\n",
        "  return soma\n",
        "\n",
        "def plotar_grafico(n,nome, condicao, valor_central=0):\n",
        "  #indice = list(range(len(n)))\n",
        "\n",
        "  if condicao:\n",
        "    inverter_lista(n)\n",
        "\n",
        "  indice = list(range(-valor_central, -valor_central + len(n)))\n",
        "\n",
        "  plt.stem(indice, n, basefmt = 'b-', use_line_collection=False)\n",
        "  plt.title(f'Gráfico de {nome} no tempo discreto')\n",
        "  plt.xlabel('Indices')\n",
        "  plt.ylabel('Amplitude')\n",
        "\n",
        "  plt.axhline(0, color='b', linestyle='-', label='Nova Origem')\n",
        "  plt.yticks(range(int(min(n)), int(max(n)) + 1))\n",
        "\n",
        "\n",
        "  plt.axvline(0, color='r', linestyle='dotted', label='Valor Central')\n",
        "\n",
        "  plt.legend()\n",
        "  plt.grid()\n",
        "  plt.show()\n"
      ],
      "metadata": {
        "id": "4C3KYK6Bg7Pt"
      },
      "execution_count": 85,
      "outputs": []
    },
    {
      "cell_type": "markdown",
      "source": [
        "### Definição das listas de sequência de:\n",
        "- x(n) = {-1, 1, 2} com o valor central igual a 1\n",
        "- h(n) = {3, 1, −2, 3, −2} com o valor central igual a 1\n"
      ],
      "metadata": {
        "id": "7VmjJpqFg87u"
      }
    },
    {
      "cell_type": "code",
      "source": [
        "x_n = np.array([-1, 1, 2])\n",
        "## esse é o valor de n=0 da lista de entrada do sistema\n",
        "valor_central_x = x_n[1]\n",
        "print(f'Essa é a lista de entradas {x_n}, com valor de n=0 sendo {valor_central_x}')\n",
        "\n",
        "## vaiores em lista da função de transfência do sistema\n",
        "h_n= np.array([3, 1,-2,3,-2])\n",
        "## Esse é o valor refência de n=0 para a lista da função de trasferência\n",
        "valor_central_h = h_n[1]\n",
        "print(f'Essa é a lista da função de transferência {h_n}, com valor de n=0 sendo {valor_central_h}')\n"
      ],
      "metadata": {
        "colab": {
          "base_uri": "https://localhost:8080/"
        },
        "id": "HCzkRWQJh4Om",
        "outputId": "2ed141a3-e694-4859-f916-0bcbf75bf8bc"
      },
      "execution_count": 102,
      "outputs": [
        {
          "output_type": "stream",
          "name": "stdout",
          "text": [
            "Essa é a lista de entradas [-1  1  2], com valor de n=0 sendo 1\n",
            "Essa é a lista da função de transferência [ 3  1 -2  3 -2], com valor de n=0 sendo 1\n"
          ]
        }
      ]
    },
    {
      "cell_type": "markdown",
      "source": [
        "### Resultado da convolução utilizando a função de convolução do numpy\n",
        "- y(n) = x(n) ~x~ h(n)"
      ],
      "metadata": {
        "id": "E69oL9fViV-3"
      }
    },
    {
      "cell_type": "code",
      "source": [
        "resul_np = np.convolve(x_n, h_n, mode ='full')\n",
        "print(f'Esse é o resultado utilizando a função de convolução do Numpy: {resul_np}')"
      ],
      "metadata": {
        "colab": {
          "base_uri": "https://localhost:8080/"
        },
        "id": "ZxsXXjkpko0H",
        "outputId": "a1b830a1-649a-472f-ba45-9f78fdfbf220"
      },
      "execution_count": 87,
      "outputs": [
        {
          "output_type": "stream",
          "name": "stdout",
          "text": [
            "Esse é o resultado utilizando a função de convolução do Numpy: [-3  2  9 -3  1  4 -4]\n"
          ]
        }
      ]
    },
    {
      "cell_type": "markdown",
      "source": [
        "### Identificando o tamanho de cada lista para ter cono base quantos elementos terá a lista y(n), sabendo que o seu tamanhao será: m + n - 1"
      ],
      "metadata": {
        "id": "rNT3j1k0k76H"
      }
    },
    {
      "cell_type": "code",
      "source": [
        "#Tamanho de cada lista\n",
        "m = len(x_n)\n",
        "print(f'Tamanho da lista de entrada m = {m}')\n",
        "n = len(h_n)\n",
        "print(f'Tamanho da lista de entrada m = {n}')\n",
        "print(f'O Tamanho da lista da saída do sistema após a convolução de x(n) = {x_n} com h(n) = {h_n} será {m+n-1}')\n"
      ],
      "metadata": {
        "colab": {
          "base_uri": "https://localhost:8080/"
        },
        "id": "ggh_C1AslNge",
        "outputId": "66fbf1bd-f899-4ea1-a7db-d65648578ab7"
      },
      "execution_count": 88,
      "outputs": [
        {
          "output_type": "stream",
          "name": "stdout",
          "text": [
            "Tamanho da lista de entrada m = 3\n",
            "Tamanho da lista de entrada m = 5\n",
            "O Tamanho da lista da saída do sistema após a convolução de x(n) = [-1  1  2] com h(n) = [ 3  1 -2  3 -2] será 7\n"
          ]
        }
      ]
    },
    {
      "cell_type": "markdown",
      "source": [
        "### Agora, irei fazer o metodo de baixo nivel para obter o mesmo resultado obtido anteriormente, porém utilizando funções nativas do python e blocos de repetição.\n",
        "- ### IMPLEMENTAÇÂO DO METODO DE PIERRE\n",
        "\n"
      ],
      "metadata": {
        "id": "JDHD73AllSVX"
      }
    },
    {
      "cell_type": "code",
      "source": [
        "#METODO DE PIERRE\n",
        "print(h_n)\n",
        "a = []\n",
        "ar = np.flip(h_n)\n",
        "print(ar)\n",
        "for i in ar:\n",
        "  print(i)\n",
        "  for j in x_n:\n",
        "    num = i*j\n",
        "    print(num)\n",
        "    a.append(num)\n",
        "    print(a)\n"
      ],
      "metadata": {
        "colab": {
          "base_uri": "https://localhost:8080/"
        },
        "id": "Zwrw73puluqt",
        "outputId": "680cc2f1-4ef8-4ac1-e350-5b0cd95ae6c8"
      },
      "execution_count": 89,
      "outputs": [
        {
          "output_type": "stream",
          "name": "stdout",
          "text": [
            "[ 3  1 -2  3 -2]\n",
            "[-2  3 -2  1  3]\n",
            "-2\n",
            "2\n",
            "[2]\n",
            "-2\n",
            "[2, -2]\n",
            "-4\n",
            "[2, -2, -4]\n",
            "3\n",
            "-3\n",
            "[2, -2, -4, -3]\n",
            "3\n",
            "[2, -2, -4, -3, 3]\n",
            "6\n",
            "[2, -2, -4, -3, 3, 6]\n",
            "-2\n",
            "2\n",
            "[2, -2, -4, -3, 3, 6, 2]\n",
            "-2\n",
            "[2, -2, -4, -3, 3, 6, 2, -2]\n",
            "-4\n",
            "[2, -2, -4, -3, 3, 6, 2, -2, -4]\n",
            "1\n",
            "-1\n",
            "[2, -2, -4, -3, 3, 6, 2, -2, -4, -1]\n",
            "1\n",
            "[2, -2, -4, -3, 3, 6, 2, -2, -4, -1, 1]\n",
            "2\n",
            "[2, -2, -4, -3, 3, 6, 2, -2, -4, -1, 1, 2]\n",
            "3\n",
            "-3\n",
            "[2, -2, -4, -3, 3, 6, 2, -2, -4, -1, 1, 2, -3]\n",
            "3\n",
            "[2, -2, -4, -3, 3, 6, 2, -2, -4, -1, 1, 2, -3, 3]\n",
            "6\n",
            "[2, -2, -4, -3, 3, 6, 2, -2, -4, -1, 1, 2, -3, 3, 6]\n"
          ]
        }
      ]
    },
    {
      "cell_type": "markdown",
      "source": [
        "### Após o cálculo pelo metodo de Pierre, todos os valores foram colocados em apenas uma lista. Logo, é necessário separá-los para efetuar a adição corretamente desses valores, semelhante a resolvê-lo analiticamente."
      ],
      "metadata": {
        "id": "2anGluCAlnQd"
      }
    },
    {
      "cell_type": "code",
      "source": [
        "print(len(a))\n",
        "b = a[:3]\n",
        "apresentar_lista(b)\n",
        "\n",
        "c = a[3:6]\n",
        "apresentar_lista(c)\n",
        "zero(c,1)\n",
        "\n",
        "d = a[6:9]\n",
        "apresentar_lista(d)\n",
        "zero(d,2)\n",
        "\n",
        "e = a[9:12]\n",
        "apresentar_lista(e)\n",
        "zero(e,3)\n",
        "\n",
        "f= a[12:15]\n",
        "apresentar_lista(f)\n",
        "zero(f,4)"
      ],
      "metadata": {
        "colab": {
          "base_uri": "https://localhost:8080/"
        },
        "id": "J6S4sUN5mp7J",
        "outputId": "16b8b32d-7c21-4e22-cc3e-29737ed70a08"
      },
      "execution_count": 90,
      "outputs": [
        {
          "output_type": "stream",
          "name": "stdout",
          "text": [
            "15\n",
            "[2, -2, -4]\n",
            "[-3, 3, 6]\n",
            "[2, -2, -4]\n",
            "[-1, 1, 2]\n",
            "[-3, 3, 6]\n"
          ]
        }
      ]
    },
    {
      "cell_type": "markdown",
      "source": [
        "### Apresentação de cada lista"
      ],
      "metadata": {
        "id": "2dUaVtCpmu_W"
      }
    },
    {
      "cell_type": "code",
      "source": [
        "apresentar_lista(b)\n",
        "apresentar_lista(c)\n",
        "apresentar_lista(d)\n",
        "apresentar_lista(e)\n",
        "apresentar_lista(f)"
      ],
      "metadata": {
        "colab": {
          "base_uri": "https://localhost:8080/"
        },
        "id": "m8Eiqq7ym5IJ",
        "outputId": "4f35a183-e7e0-4ead-955f-c6c32b95b599"
      },
      "execution_count": 91,
      "outputs": [
        {
          "output_type": "stream",
          "name": "stdout",
          "text": [
            "[2, -2, -4]\n",
            "[-3, 3, 6, 0]\n",
            "[2, -2, -4, 0, 0]\n",
            "[-1, 1, 2, 0, 0, 0]\n",
            "[-3, 3, 6, 0, 0, 0, 0]\n"
          ]
        }
      ]
    },
    {
      "cell_type": "markdown",
      "source": [
        "### Invertendo a posição dos elementos da lista após adicão de valores nulos ao final de cada lista utilizando a função zero definida no inicio do programa, para efetuar a adição corretamente."
      ],
      "metadata": {
        "id": "ntnXff46m-tm"
      }
    },
    {
      "cell_type": "code",
      "source": [
        "## agora vou ter que somar as três listas\n",
        "inverter_lista(b)\n",
        "inverter_lista(c)\n",
        "inverter_lista(d)\n",
        "inverter_lista(e)\n",
        "inverter_lista(f)\n",
        "\n",
        "apresentar_lista(b)\n",
        "apresentar_lista(c)\n",
        "apresentar_lista(d)\n",
        "apresentar_lista(e)\n",
        "apresentar_lista(f)"
      ],
      "metadata": {
        "colab": {
          "base_uri": "https://localhost:8080/"
        },
        "id": "imH3prkjnO1O",
        "outputId": "555a4c2b-9d2e-4db9-b0f3-aaf156624925"
      },
      "execution_count": 92,
      "outputs": [
        {
          "output_type": "stream",
          "name": "stdout",
          "text": [
            "[-4, -2, 2]\n",
            "[0, 6, 3, -3]\n",
            "[0, 0, -4, -2, 2]\n",
            "[0, 0, 0, 2, 1, -1]\n",
            "[0, 0, 0, 0, 6, 3, -3]\n"
          ]
        }
      ]
    },
    {
      "cell_type": "markdown",
      "source": [
        "### Após isso, irei somar as listas utlizando a função soma_lista definida no inicio do programa"
      ],
      "metadata": {
        "id": "w-HBg3nInToX"
      }
    },
    {
      "cell_type": "code",
      "source": [
        "### Encontrando o resultado da convolução pelo metodo de Pierre\n",
        "resul = somar_listas(b,c,d, e, f)\n"
      ],
      "metadata": {
        "colab": {
          "base_uri": "https://localhost:8080/"
        },
        "id": "690pZQaZn57O",
        "outputId": "1940df13-5bbf-49f5-8b01-8890a6f7879c"
      },
      "execution_count": 93,
      "outputs": [
        {
          "output_type": "stream",
          "name": "stdout",
          "text": [
            "Esse é o resultado da soma após a multiplicação de x_n com h_n, logo y_n = [-4, 4, 1, -3, 9, 2, -3] com tamanho m + n = 7\n"
          ]
        }
      ]
    },
    {
      "cell_type": "markdown",
      "source": [
        "### Encontrando a quantidade de valores presentes depois do valor central em cada lista para definir o valor central de y(n)"
      ],
      "metadata": {
        "id": "0V3zNgi2oI-_"
      }
    },
    {
      "cell_type": "code",
      "source": [
        "### Encontrando a quantidade de valores presentes depois do valor central em cada lista\n",
        "n_x= len(x_n[valor_central_x:])-len(x_n[:valor_central_x])\n",
        "print(f'Essa é a quantidade de valores depois de n=0 da lista de entrada: {n_x}')\n",
        "n_h= len(h_n[valor_central_h:])-len(h_n[:valor_central_h])\n",
        "print(f'Essa é a quantidade de valores depois de n=0 da lista de entrada: {n_h}')\n",
        "n_central_y = n_x+n_h\n",
        "\n",
        "\n",
        "## Valor central de y_n\n",
        "valor_central_y = resul[n_central_y]\n",
        "print(f'Valor central de y_n é: {valor_central_y}')"
      ],
      "metadata": {
        "colab": {
          "base_uri": "https://localhost:8080/"
        },
        "id": "LC4JwpdtoXuf",
        "outputId": "fe571a54-eafc-4790-b0e4-73dc152a2285"
      },
      "execution_count": 94,
      "outputs": [
        {
          "output_type": "stream",
          "name": "stdout",
          "text": [
            "Essa é a quantidade de valores depois de n=0 da lista de entrada: 1\n",
            "Essa é a quantidade de valores depois de n=0 da lista de entrada: 3\n",
            "Valor central de y_n é: 9\n"
          ]
        }
      ]
    },
    {
      "cell_type": "markdown",
      "source": [
        "### Resultado da convolução \"analiticamente\""
      ],
      "metadata": {
        "id": "DFqhnu64ofv2"
      }
    },
    {
      "cell_type": "code",
      "source": [
        "## logo o resultado da convolução é:\n",
        "\n",
        "print(f'y(n) é :{resul[::-1]} com valor central igual a {valor_central_y}')\n"
      ],
      "metadata": {
        "colab": {
          "base_uri": "https://localhost:8080/"
        },
        "id": "vUZ-ooy-oyBw",
        "outputId": "293fd7d1-e408-4982-ff58-db43cd716fa1"
      },
      "execution_count": 100,
      "outputs": [
        {
          "output_type": "stream",
          "name": "stdout",
          "text": [
            "y(n) é :[-3, 2, 9, -3, 1, 4, -4] com valor central igual a 9\n"
          ]
        }
      ]
    },
    {
      "cell_type": "markdown",
      "source": [
        "### Plotando o gráfico utilizando ao função plotar_grafico definida no inicio do programa"
      ],
      "metadata": {
        "id": "IpqNjIy6oz7v"
      }
    },
    {
      "cell_type": "code",
      "source": [
        "## Plotando o gráfico da entrada do sistema\n",
        "##plotar_grafico(x_n, \"x(n)\", False, valor_central_x)\n",
        "## Plotando o gráfico da função de trasnferência do sistema\n",
        "##plotar_grafico(h_n, \"h(n)\", False, valor_central_h)\n",
        "##Plotando o gráfico de y(n)\n",
        "plotar_grafico(resul, \"y(n)\", True, len(resul)-n_central_y-1)"
      ],
      "metadata": {
        "colab": {
          "base_uri": "https://localhost:8080/",
          "height": 527
        },
        "id": "dDyDNzFGpIWm",
        "outputId": "7c65b558-ceb2-435b-e0a2-c60fee0693ca"
      },
      "execution_count": 103,
      "outputs": [
        {
          "output_type": "stream",
          "name": "stderr",
          "text": [
            "<ipython-input-85-ab62587c3f9d>:29: MatplotlibDeprecationWarning: The 'use_line_collection' parameter of stem() was deprecated in Matplotlib 3.6 and will be removed two minor releases later. If any parameter follows 'use_line_collection', they should be passed as keyword, not positionally.\n",
            "  plt.stem(indice, n, basefmt = 'b-', use_line_collection=False)\n"
          ]
        },
        {
          "output_type": "display_data",
          "data": {
            "text/plain": [
              "<Figure size 640x480 with 1 Axes>"
            ],
            "image/png": "[encoded data removed]"
          },
          "metadata": {}
        }
      ]
    },
    {
      "cell_type": "markdown",
      "source": [
        "# 2ª Questão\n",
        "Considere a função\n",
        "  X(z) = z/z² - 3z +2\n",
        "\n",
        "- (a) (Valor: 1.0 ponto) Desenhe a sua RoC\n",
        "\n",
        "-  (b) (Valor: 0.5 ponto) Obtenha x(n)\n"
      ],
      "metadata": {
        "id": "A-alSSfBY0tD"
      }
    },
    {
      "cell_type": "markdown",
      "source": [
        "### a) Região de Convergência"
      ],
      "metadata": {
        "id": "a0GuTmHNfjWc"
      }
    },
    {
      "cell_type": "code",
      "source": [
        "import numpy as np\n",
        "import matplotlib.pyplot as plt\n",
        "\n",
        "def inverse_z_transform(b, a, n_max=10):\n",
        "    \"\"\"\n",
        "    Calcula a transformada inversa de Z para uma dada função de transferência.\n",
        "\n",
        "    Parameters:\n",
        "    - b: Coeficientes do numerador da função de transferência.\n",
        "    - a: Coeficientes do denominador da função de transferência.\n",
        "    - n_max: Número máximo de pontos para a sequência discreta.\n",
        "\n",
        "    Returns:\n",
        "    - x: Sequência discreta resultante.\n",
        "    - ROC: Região de convergência.\n",
        "    \"\"\"\n",
        "    # Calcula a região de convergência\n",
        "    ROC = np.roots(a)\n",
        "\n",
        "    # Gera valores de n para a sequência discreta\n",
        "    n = np.arange(0, n_max)\n",
        "\n",
        "    # Calcula a sequência discreta usando a soma infinita\n",
        "    x = np.zeros_like(n, dtype=np.complex128)\n",
        "    for i, b_i in enumerate(b):\n",
        "        x += b_i * np.power(n, i) / np.math.factorial(i)\n",
        "\n",
        "    return x, ROC\n",
        "\n",
        "def plotar_regiao_convergencia(ROC):\n",
        "    plt.figure(figsize=(8, 8))\n",
        "\n",
        "    # Plota o círculo representando a região de convergência\n",
        "    circle = plt.Circle((0, 0), max(np.abs(ROC)), color='cyan', fill=True, alpha=0.3)\n",
        "    plt.gca().add_patch(circle)\n",
        "\n",
        "    # Plota os polos com cores diferentes com base no sinal da parte real\n",
        "    for pole in ROC:\n",
        "        color = 'red' if np.real(pole) >= 0 else 'blue'\n",
        "        plt.scatter(np.real(pole), np.imag(pole), marker='x', color=color, label='Polo')\n",
        "\n",
        "    plt.axhline(0, color='black', linewidth=0.5, linestyle='--')\n",
        "    plt.axvline(0, color='black', linewidth=0.5, linestyle='--')\n",
        "    plt.xlabel('Parte Real')\n",
        "    plt.ylabel('Parte Imaginária')\n",
        "    plt.title('Região de Convergência')\n",
        "    plt.legend()\n",
        "    plt.grid()\n",
        "    plt.show()\n",
        "# Coeficientes da função de transferência\n",
        "b = [1, 0]\n",
        "a = [1, -3, 2]\n",
        "\n",
        "# (a) Obtendo e plotando a região de convergência\n",
        "x, ROC = inverse_z_transform(b, a, n_max=1)\n",
        "print(\"Região de Convergência:\", ROC)\n",
        "plotar_regiao_convergencia(ROC)\n",
        "\n",
        "\n"
      ],
      "metadata": {
        "colab": {
          "base_uri": "https://localhost:8080/",
          "height": 736
        },
        "id": "_kou9dzuaHU1",
        "outputId": "d64d626c-2017-4940-9685-765712d560ec"
      },
      "execution_count": 97,
      "outputs": [
        {
          "output_type": "stream",
          "name": "stdout",
          "text": [
            "Região de Convergência: [2. 1.]\n"
          ]
        },
        {
          "output_type": "display_data",
          "data": {
            "text/plain": [
              "<Figure size 800x800 with 1 Axes>"
            ],
            "image/png": "[encoded data removed]"
          },
          "metadata": {}
        }
      ]
    },
    {
      "cell_type": "markdown",
      "source": [
        "### b) Calculando o x(n) em lista de sequência"
      ],
      "metadata": {
        "id": "ZcobXr9Tfqxc"
      }
    },
    {
      "cell_type": "code",
      "source": [
        "import numpy as np\n",
        "from scipy.signal import residue, tf2zpk, zpk2tf\n",
        "\n",
        "def inverse_z_transform(b, a, n_max=10):\n",
        "    \"\"\"\n",
        "    Calcula a transformada inversa de Z para uma dada função de transferência.\n",
        "\n",
        "    Parameters:\n",
        "    - b: Coeficientes do numerador da função de transferência.\n",
        "    - a: Coeficientes do denominador da função de transferência.\n",
        "    - n_max: Número máximo de pontos para a sequência discreta.\n",
        "\n",
        "    Returns:\n",
        "    - x: Sequência discreta resultante.\n",
        "    \"\"\"\n",
        "    # Converte os coeficientes para forma de zeros e polos\n",
        "    zeros, poles, _ = tf2zpk(b, a)\n",
        "\n",
        "    # Calcula as frações parciais\n",
        "    _, residue_values, _ = residue(b, a)\n",
        "\n",
        "    # Gera valores de n para a sequência discreta\n",
        "    n = np.arange(0, n_max)\n",
        "\n",
        "    # Calcula a sequência discreta usando as frações parciais\n",
        "    x = np.zeros_like(n, dtype=np.complex128)\n",
        "    for zero, residue_value in zip(zeros, residue_values):\n",
        "        x += residue_value * np.power(zero, n)\n",
        "\n",
        "    return x\n",
        "\n",
        "# Coeficientes da função de transferência\n",
        "b = [1, 0]\n",
        "a = [1, -3, 2]\n",
        "\n",
        "# Obtendo a sequência discreta\n",
        "x = inverse_z_transform(b, a, n_max=10) + 1\n",
        "print(\"Sequência discreta (x[n]):\", x)\n"
      ],
      "metadata": {
        "colab": {
          "base_uri": "https://localhost:8080/"
        },
        "id": "WpDMY5ZiePe1",
        "outputId": "6f04a433-f7e2-4436-94cb-528116808cb6"
      },
      "execution_count": 98,
      "outputs": [
        {
          "output_type": "stream",
          "name": "stdout",
          "text": [
            "Sequência discreta (x[n]): [2.+0.j 1.+0.j 1.+0.j 1.+0.j 1.+0.j 1.+0.j 1.+0.j 1.+0.j 1.+0.j 1.+0.j]\n"
          ]
        }
      ]
    },
    {
      "cell_type": "markdown",
      "source": [
        "### Plotando o gráfico de x(n) e gerando sequencia discreta entre a partir dessa função\n"
      ],
      "metadata": {
        "id": "xvhtD3eJfyv8"
      }
    },
    {
      "cell_type": "code",
      "source": [
        "import numpy as np\n",
        "import matplotlib.pyplot as plt\n",
        "\n",
        "def gerar_sequencia(n_max=10):\n",
        "    \"\"\"\n",
        "    Gera a sequência discreta x[n] = 2^n - 1.\n",
        "\n",
        "    Parameters:\n",
        "    - n_max: Número máximo de pontos para a sequência discreta.\n",
        "\n",
        "    Returns:\n",
        "    - x: Sequência discreta resultante.\n",
        "    \"\"\"\n",
        "    n = np.arange(0, n_max)\n",
        "    x = 2 ** n - 1\n",
        "    return x\n",
        "\n",
        "# Gerando a sequência discreta\n",
        "x = gerar_sequencia(n_max=10)\n",
        "print(\"Sequência discreta (x[n]):\", x)\n",
        "\n",
        "# Plotando o gráfico\n",
        "plt.stem(range(len(x)), x, basefmt='b-', use_line_collection=True)\n",
        "plt.title('Gráfico da Sequência Discreta $x[n] = 2^n - 1$')\n",
        "plt.xlabel('Índices (n)')\n",
        "plt.ylabel('Amplitude')\n",
        "plt.grid()\n",
        "plt.show()\n"
      ],
      "metadata": {
        "colab": {
          "base_uri": "https://localhost:8080/",
          "height": 547
        },
        "id": "RoCyXEb6eUd9",
        "outputId": "85138455-a98f-40c6-b531-f75da3de0546"
      },
      "execution_count": 99,
      "outputs": [
        {
          "output_type": "stream",
          "name": "stdout",
          "text": [
            "Sequência discreta (x[n]): [  0   1   3   7  15  31  63 127 255 511]\n"
          ]
        },
        {
          "output_type": "stream",
          "name": "stderr",
          "text": [
            "<ipython-input-99-6ed30b8946dd>:23: MatplotlibDeprecationWarning: The 'use_line_collection' parameter of stem() was deprecated in Matplotlib 3.6 and will be removed two minor releases later. If any parameter follows 'use_line_collection', they should be passed as keyword, not positionally.\n",
            "  plt.stem(range(len(x)), x, basefmt='b-', use_line_collection=True)\n"
          ]
        },
        {
          "output_type": "display_data",
          "data": {
            "text/plain": [
              "<Figure size 640x480 with 1 Axes>"
            ],
            "image/png": "[encoded data removed]"
          },
          "metadata": {}
        }
      ]
    }
  ]
}